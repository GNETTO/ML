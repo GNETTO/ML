{
 "cells": [
  {
   "cell_type": "markdown",
   "id": "6550b2e3",
   "metadata": {},
   "source": [
    "<h2 style=\"background-color:BLACK;padding:15px 0px;  color:white; text-align:center\"> HEART DESEASE PREDICTIONS</h2>"
   ]
  },
  {
   "cell_type": "markdown",
   "id": "1ff0ba65",
   "metadata": {},
   "source": [
    "<h3 style=\"background-color:lightblue;padding:10px 0px;color:white;text-align:center;display:inline-block\">MODEL:  LINEAR REGRESSION </h3>"
   ]
  },
  {
   "cell_type": "code",
   "execution_count": 1,
   "id": "1ec49456",
   "metadata": {
    "scrolled": true
   },
   "outputs": [],
   "source": [
    "import pandas as pd\n",
    "import numpy as np\n",
    "import pickle\n",
    "from sklearn.datasets import make_classification\n",
    "from sklearn.linear_model import LogisticRegression\n",
    "from sklearn.model_selection import train_test_split\n",
    "from sklearn import metrics as mes\n",
    "from sklearn.metrics import confusion_matrix\n",
    "from matplotlib import pyplot as plt"
   ]
  },
  {
   "cell_type": "markdown",
   "id": "d4fb1918",
   "metadata": {},
   "source": [
    "<p style=\"background-color:gray;padding:5px 0px;color:white;text-align:center;\">1 ) Load Data inside <code>data</code> variable</p>"
   ]
  },
  {
   "cell_type": "code",
   "execution_count": 2,
   "id": "e3b51b46",
   "metadata": {},
   "outputs": [],
   "source": [
    "data = pd.read_excel('Coeurs.xlsx')\n"
   ]
  },
  {
   "cell_type": "markdown",
   "id": "741c8965",
   "metadata": {},
   "source": [
    "<p style=\"background-color:gray;padding:5px 0px;color:white;text-align:center;\"> 2 ) Make a copy of Data and save it inside <code> df </code>  </p>"
   ]
  },
  {
   "cell_type": "code",
   "execution_count": 3,
   "id": "159a7245",
   "metadata": {},
   "outputs": [
    {
     "data": {
      "text/html": [
       "<div>\n",
       "<style scoped>\n",
       "    .dataframe tbody tr th:only-of-type {\n",
       "        vertical-align: middle;\n",
       "    }\n",
       "\n",
       "    .dataframe tbody tr th {\n",
       "        vertical-align: top;\n",
       "    }\n",
       "\n",
       "    .dataframe thead th {\n",
       "        text-align: right;\n",
       "    }\n",
       "</style>\n",
       "<table border=\"1\" class=\"dataframe\">\n",
       "  <thead>\n",
       "    <tr style=\"text-align: right;\">\n",
       "      <th></th>\n",
       "      <th>AGE</th>\n",
       "      <th>SEXE</th>\n",
       "      <th>TDT</th>\n",
       "      <th>PAR</th>\n",
       "      <th>CHOLESTEROL</th>\n",
       "      <th>GAJ</th>\n",
       "      <th>ECG</th>\n",
       "      <th>FCMAX</th>\n",
       "      <th>ANGINE</th>\n",
       "      <th>DEPRESSION</th>\n",
       "      <th>PENTE</th>\n",
       "      <th>CŒUR</th>\n",
       "    </tr>\n",
       "  </thead>\n",
       "  <tbody>\n",
       "    <tr>\n",
       "      <th>0</th>\n",
       "      <td>40</td>\n",
       "      <td>homme</td>\n",
       "      <td>AA</td>\n",
       "      <td>140</td>\n",
       "      <td>289</td>\n",
       "      <td>0</td>\n",
       "      <td>Normal</td>\n",
       "      <td>172</td>\n",
       "      <td>Non</td>\n",
       "      <td>0.0</td>\n",
       "      <td>Ascendant</td>\n",
       "      <td>0</td>\n",
       "    </tr>\n",
       "    <tr>\n",
       "      <th>1</th>\n",
       "      <td>49</td>\n",
       "      <td>femme</td>\n",
       "      <td>DNA</td>\n",
       "      <td>160</td>\n",
       "      <td>180</td>\n",
       "      <td>0</td>\n",
       "      <td>Normal</td>\n",
       "      <td>156</td>\n",
       "      <td>Non</td>\n",
       "      <td>1.0</td>\n",
       "      <td>Plat</td>\n",
       "      <td>1</td>\n",
       "    </tr>\n",
       "    <tr>\n",
       "      <th>2</th>\n",
       "      <td>37</td>\n",
       "      <td>homme</td>\n",
       "      <td>AA</td>\n",
       "      <td>130</td>\n",
       "      <td>283</td>\n",
       "      <td>0</td>\n",
       "      <td>ST</td>\n",
       "      <td>98</td>\n",
       "      <td>Non</td>\n",
       "      <td>0.0</td>\n",
       "      <td>Ascendant</td>\n",
       "      <td>0</td>\n",
       "    </tr>\n",
       "    <tr>\n",
       "      <th>3</th>\n",
       "      <td>48</td>\n",
       "      <td>femme</td>\n",
       "      <td>ASY</td>\n",
       "      <td>138</td>\n",
       "      <td>214</td>\n",
       "      <td>0</td>\n",
       "      <td>Normal</td>\n",
       "      <td>108</td>\n",
       "      <td>Oui</td>\n",
       "      <td>1.5</td>\n",
       "      <td>Plat</td>\n",
       "      <td>1</td>\n",
       "    </tr>\n",
       "    <tr>\n",
       "      <th>4</th>\n",
       "      <td>54</td>\n",
       "      <td>homme</td>\n",
       "      <td>DNA</td>\n",
       "      <td>150</td>\n",
       "      <td>195</td>\n",
       "      <td>0</td>\n",
       "      <td>Normal</td>\n",
       "      <td>122</td>\n",
       "      <td>Non</td>\n",
       "      <td>0.0</td>\n",
       "      <td>Ascendant</td>\n",
       "      <td>0</td>\n",
       "    </tr>\n",
       "    <tr>\n",
       "      <th>...</th>\n",
       "      <td>...</td>\n",
       "      <td>...</td>\n",
       "      <td>...</td>\n",
       "      <td>...</td>\n",
       "      <td>...</td>\n",
       "      <td>...</td>\n",
       "      <td>...</td>\n",
       "      <td>...</td>\n",
       "      <td>...</td>\n",
       "      <td>...</td>\n",
       "      <td>...</td>\n",
       "      <td>...</td>\n",
       "    </tr>\n",
       "    <tr>\n",
       "      <th>913</th>\n",
       "      <td>45</td>\n",
       "      <td>homme</td>\n",
       "      <td>AT</td>\n",
       "      <td>110</td>\n",
       "      <td>264</td>\n",
       "      <td>0</td>\n",
       "      <td>Normal</td>\n",
       "      <td>132</td>\n",
       "      <td>Non</td>\n",
       "      <td>1.2</td>\n",
       "      <td>Plat</td>\n",
       "      <td>1</td>\n",
       "    </tr>\n",
       "    <tr>\n",
       "      <th>914</th>\n",
       "      <td>68</td>\n",
       "      <td>homme</td>\n",
       "      <td>ASY</td>\n",
       "      <td>144</td>\n",
       "      <td>193</td>\n",
       "      <td>1</td>\n",
       "      <td>Normal</td>\n",
       "      <td>141</td>\n",
       "      <td>Non</td>\n",
       "      <td>3.4</td>\n",
       "      <td>Plat</td>\n",
       "      <td>1</td>\n",
       "    </tr>\n",
       "    <tr>\n",
       "      <th>915</th>\n",
       "      <td>57</td>\n",
       "      <td>homme</td>\n",
       "      <td>ASY</td>\n",
       "      <td>130</td>\n",
       "      <td>131</td>\n",
       "      <td>0</td>\n",
       "      <td>Normal</td>\n",
       "      <td>115</td>\n",
       "      <td>Oui</td>\n",
       "      <td>1.2</td>\n",
       "      <td>Plat</td>\n",
       "      <td>1</td>\n",
       "    </tr>\n",
       "    <tr>\n",
       "      <th>916</th>\n",
       "      <td>57</td>\n",
       "      <td>femme</td>\n",
       "      <td>AA</td>\n",
       "      <td>130</td>\n",
       "      <td>236</td>\n",
       "      <td>0</td>\n",
       "      <td>LVH</td>\n",
       "      <td>174</td>\n",
       "      <td>Non</td>\n",
       "      <td>0.0</td>\n",
       "      <td>Plat</td>\n",
       "      <td>1</td>\n",
       "    </tr>\n",
       "    <tr>\n",
       "      <th>917</th>\n",
       "      <td>38</td>\n",
       "      <td>homme</td>\n",
       "      <td>DNA</td>\n",
       "      <td>138</td>\n",
       "      <td>175</td>\n",
       "      <td>0</td>\n",
       "      <td>Normal</td>\n",
       "      <td>173</td>\n",
       "      <td>Non</td>\n",
       "      <td>0.0</td>\n",
       "      <td>Ascendant</td>\n",
       "      <td>0</td>\n",
       "    </tr>\n",
       "  </tbody>\n",
       "</table>\n",
       "<p>918 rows × 12 columns</p>\n",
       "</div>"
      ],
      "text/plain": [
       "     AGE   SEXE  TDT  PAR  CHOLESTEROL  GAJ     ECG  FCMAX ANGINE  DEPRESSION  \\\n",
       "0     40  homme   AA  140          289    0  Normal    172    Non         0.0   \n",
       "1     49  femme  DNA  160          180    0  Normal    156    Non         1.0   \n",
       "2     37  homme   AA  130          283    0      ST     98    Non         0.0   \n",
       "3     48  femme  ASY  138          214    0  Normal    108    Oui         1.5   \n",
       "4     54  homme  DNA  150          195    0  Normal    122    Non         0.0   \n",
       "..   ...    ...  ...  ...          ...  ...     ...    ...    ...         ...   \n",
       "913   45  homme   AT  110          264    0  Normal    132    Non         1.2   \n",
       "914   68  homme  ASY  144          193    1  Normal    141    Non         3.4   \n",
       "915   57  homme  ASY  130          131    0  Normal    115    Oui         1.2   \n",
       "916   57  femme   AA  130          236    0     LVH    174    Non         0.0   \n",
       "917   38  homme  DNA  138          175    0  Normal    173    Non         0.0   \n",
       "\n",
       "         PENTE  CŒUR  \n",
       "0    Ascendant     0  \n",
       "1         Plat     1  \n",
       "2    Ascendant     0  \n",
       "3         Plat     1  \n",
       "4    Ascendant     0  \n",
       "..         ...   ...  \n",
       "913       Plat     1  \n",
       "914       Plat     1  \n",
       "915       Plat     1  \n",
       "916       Plat     1  \n",
       "917  Ascendant     0  \n",
       "\n",
       "[918 rows x 12 columns]"
      ]
     },
     "execution_count": 3,
     "metadata": {},
     "output_type": "execute_result"
    }
   ],
   "source": [
    "df = data.copy()\n",
    "df= df.rename(columns={'DEPRESSION ':'DEPRESSION'})\n",
    "df"
   ]
  },
  {
   "cell_type": "code",
   "execution_count": 4,
   "id": "795aa821",
   "metadata": {
    "scrolled": true
   },
   "outputs": [
    {
     "name": "stdout",
     "output_type": "stream",
     "text": [
      "<class 'pandas.core.frame.DataFrame'>\n",
      "RangeIndex: 918 entries, 0 to 917\n",
      "Data columns (total 12 columns):\n",
      " #   Column       Non-Null Count  Dtype  \n",
      "---  ------       --------------  -----  \n",
      " 0   AGE          918 non-null    int64  \n",
      " 1   SEXE         918 non-null    object \n",
      " 2   TDT          918 non-null    object \n",
      " 3   PAR          918 non-null    int64  \n",
      " 4   CHOLESTEROL  918 non-null    int64  \n",
      " 5   GAJ          918 non-null    int64  \n",
      " 6   ECG          918 non-null    object \n",
      " 7   FCMAX        918 non-null    int64  \n",
      " 8   ANGINE       918 non-null    object \n",
      " 9   DEPRESSION   918 non-null    float64\n",
      " 10  PENTE        918 non-null    object \n",
      " 11  CŒUR         918 non-null    int64  \n",
      "dtypes: float64(1), int64(6), object(5)\n",
      "memory usage: 86.2+ KB\n"
     ]
    }
   ],
   "source": [
    "df.info()"
   ]
  },
  {
   "cell_type": "markdown",
   "id": "625518e0",
   "metadata": {},
   "source": [
    "<p style=\"background-color:gray;padding:6px 0px;color:white\"> 3 ) Check duplicates rows  </p>"
   ]
  },
  {
   "cell_type": "code",
   "execution_count": 5,
   "id": "df1f2825",
   "metadata": {},
   "outputs": [
    {
     "data": {
      "text/plain": [
       "0"
      ]
     },
     "execution_count": 5,
     "metadata": {},
     "output_type": "execute_result"
    }
   ],
   "source": [
    "total_duplicate = df.duplicated().sum()\n",
    "total_duplicate"
   ]
  },
  {
   "cell_type": "markdown",
   "id": "56934441",
   "metadata": {},
   "source": [
    "<p style=\"background-color:gray;padding:6px 0px;color:white\">  Remove duplicates  </p>"
   ]
  },
  {
   "cell_type": "code",
   "execution_count": 6,
   "id": "f899ce40",
   "metadata": {},
   "outputs": [],
   "source": [
    "if total_duplicate > 0 :\n",
    "     df.drop_duplicates()"
   ]
  },
  {
   "cell_type": "markdown",
   "id": "28c461ed",
   "metadata": {},
   "source": [
    "<p style=\"background-color:gray;padding:6px 0px;color:white\"> 4 ) Check constants  </p>"
   ]
  },
  {
   "cell_type": "code",
   "execution_count": 7,
   "id": "86f45425",
   "metadata": {},
   "outputs": [],
   "source": [
    "def check_and_remove_constant(dframe):\n",
    "\n",
    "    # compare each col with its first value : return new frame populated with either true  or false\n",
    "    new_frame_bool = dframe == df.iloc[0] \n",
    "    #print(new_frame_bool)\n",
    "    fr = new_frame_bool.all()  \n",
    "    for col, content in fr.iteritems():\n",
    "        if content == True:\n",
    "            dframe = dframe.drop(col, axis=1)\n",
    "    return dframe\n",
    "\n",
    "df = check_and_remove_constant(df)"
   ]
  },
  {
   "cell_type": "markdown",
   "id": "92623b9c",
   "metadata": {},
   "source": [
    "<p style=\"background-color:gray;padding:6px 0px;color:white\"> 6 ) Check missing data  </p>"
   ]
  },
  {
   "cell_type": "code",
   "execution_count": 8,
   "id": "dad6f072",
   "metadata": {
    "scrolled": true
   },
   "outputs": [],
   "source": [
    "def check_missing_data(df):\n",
    "    df.replace('',float('NaN'),inplace=True)\n",
    "    return df.isnull().any(axis=None) #cols"
   ]
  },
  {
   "cell_type": "markdown",
   "id": "3e67cd18",
   "metadata": {},
   "source": [
    "<p style=\"background-color:gray;padding:6px 0px;color:white\"> -- Remove missing data </p>"
   ]
  },
  {
   "cell_type": "code",
   "execution_count": 9,
   "id": "dcaf6a91",
   "metadata": {},
   "outputs": [],
   "source": [
    "if  check_missing_data(df):\n",
    "    df=df.dropna()"
   ]
  },
  {
   "cell_type": "markdown",
   "id": "0880b550",
   "metadata": {},
   "source": [
    "<h3 style=\"padding:12px 0px;background-color:blue;color:white\">GRAPHIQUE</h3>"
   ]
  },
  {
   "cell_type": "code",
   "execution_count": 10,
   "id": "893f49c7",
   "metadata": {
    "scrolled": true
   },
   "outputs": [
    {
     "data": {
      "text/plain": [
       "array([[<AxesSubplot:title={'center':'AGE'}>]], dtype=object)"
      ]
     },
     "execution_count": 10,
     "metadata": {},
     "output_type": "execute_result"
    },
    {
     "data": {
      "image/png": "[encoded data removed]",
      "text/plain": [
       "<Figure size 432x288 with 1 Axes>"
      ]
     },
     "metadata": {
      "needs_background": "light"
     },
     "output_type": "display_data"
    }
   ],
   "source": [
    "df.hist(column='AGE')"
   ]
  },
  {
   "cell_type": "code",
   "execution_count": 11,
   "id": "47860347",
   "metadata": {
    "scrolled": true
   },
   "outputs": [
    {
     "data": {
      "text/plain": [
       "array([[<AxesSubplot:title={'center':'CHOLESTEROL'}>]], dtype=object)"
      ]
     },
     "execution_count": 11,
     "metadata": {},
     "output_type": "execute_result"
    },
    {
     "data": {
      "image/png": "[encoded data removed]",
      "text/plain": [
       "<Figure size 432x288 with 1 Axes>"
      ]
     },
     "metadata": {
      "needs_background": "light"
     },
     "output_type": "display_data"
    }
   ],
   "source": [
    "df.hist(column='CHOLESTEROL')"
   ]
  },
  {
   "cell_type": "code",
   "execution_count": 12,
   "id": "345aa5d0",
   "metadata": {
    "scrolled": true
   },
   "outputs": [
    {
     "data": {
      "text/plain": [
       "array([[<AxesSubplot:title={'center':'FCMAX'}>]], dtype=object)"
      ]
     },
     "execution_count": 12,
     "metadata": {},
     "output_type": "execute_result"
    },
    {
     "data": {
      "image/png": "[encoded data removed]",
      "text/plain": [
       "<Figure size 432x288 with 1 Axes>"
      ]
     },
     "metadata": {
      "needs_background": "light"
     },
     "output_type": "display_data"
    }
   ],
   "source": [
    "df.hist(column='FCMAX')"
   ]
  },
  {
   "cell_type": "code",
   "execution_count": 13,
   "id": "cfca9fcf",
   "metadata": {
    "scrolled": true
   },
   "outputs": [
    {
     "data": {
      "text/plain": [
       "array([[<AxesSubplot:title={'center':'DEPRESSION'}>]], dtype=object)"
      ]
     },
     "execution_count": 13,
     "metadata": {},
     "output_type": "execute_result"
    },
    {
     "data": {
      "image/png": "[encoded data removed]",
      "text/plain": [
       "<Figure size 432x288 with 1 Axes>"
      ]
     },
     "metadata": {
      "needs_background": "light"
     },
     "output_type": "display_data"
    }
   ],
   "source": [
    "df.hist(column='DEPRESSION')"
   ]
  },
  {
   "cell_type": "markdown",
   "id": "0b255b51",
   "metadata": {},
   "source": [
    "<p style=\"background-color:gray;padding:6px 0px;color:white\"> 7) Quantitative Variable normalisation </p>"
   ]
  },
  {
   "cell_type": "code",
   "execution_count": 19,
   "id": "cd1cc415",
   "metadata": {},
   "outputs": [],
   "source": [
    "quantitative = df.select_dtypes(['int64','float64']).drop(['CŒUR'],axis='columns')"
   ]
  },
  {
   "cell_type": "markdown",
   "id": "792b4e25",
   "metadata": {},
   "source": [
    "<p style=\"background-color:gray;padding:6px 0px;color:white\"> -- Then normalisation </p>"
   ]
  },
  {
   "cell_type": "code",
   "execution_count": 20,
   "id": "3ec37971",
   "metadata": {
    "scrolled": true
   },
   "outputs": [],
   "source": [
    "def normalisation(df):\n",
    "    for col in quantitative.columns:\n",
    "        df[col]=df[col]/df[col].mean()\n",
    "            \n",
    "    return df\n",
    "\n",
    "df = normalisation(df)"
   ]
  },
  {
   "cell_type": "code",
   "execution_count": 21,
   "id": "16e4ac55",
   "metadata": {
    "scrolled": true
   },
   "outputs": [
    {
     "data": {
      "text/html": [
       "<div>\n",
       "<style scoped>\n",
       "    .dataframe tbody tr th:only-of-type {\n",
       "        vertical-align: middle;\n",
       "    }\n",
       "\n",
       "    .dataframe tbody tr th {\n",
       "        vertical-align: top;\n",
       "    }\n",
       "\n",
       "    .dataframe thead th {\n",
       "        text-align: right;\n",
       "    }\n",
       "</style>\n",
       "<table border=\"1\" class=\"dataframe\">\n",
       "  <thead>\n",
       "    <tr style=\"text-align: right;\">\n",
       "      <th></th>\n",
       "      <th>AGE</th>\n",
       "      <th>SEXE</th>\n",
       "      <th>TDT</th>\n",
       "      <th>PAR</th>\n",
       "      <th>CHOLESTEROL</th>\n",
       "      <th>GAJ</th>\n",
       "      <th>ECG</th>\n",
       "      <th>FCMAX</th>\n",
       "      <th>ANGINE</th>\n",
       "      <th>DEPRESSION</th>\n",
       "      <th>PENTE</th>\n",
       "      <th>CŒUR</th>\n",
       "    </tr>\n",
       "  </thead>\n",
       "  <tbody>\n",
       "    <tr>\n",
       "      <th>0</th>\n",
       "      <td>0.747511</td>\n",
       "      <td>1</td>\n",
       "      <td>0</td>\n",
       "      <td>1.057430</td>\n",
       "      <td>1.453726</td>\n",
       "      <td>0.00000</td>\n",
       "      <td>1</td>\n",
       "      <td>1.257224</td>\n",
       "      <td>0</td>\n",
       "      <td>0.000000</td>\n",
       "      <td>0</td>\n",
       "      <td>0</td>\n",
       "    </tr>\n",
       "    <tr>\n",
       "      <th>1</th>\n",
       "      <td>0.915701</td>\n",
       "      <td>0</td>\n",
       "      <td>3</td>\n",
       "      <td>1.208491</td>\n",
       "      <td>0.905435</td>\n",
       "      <td>0.00000</td>\n",
       "      <td>1</td>\n",
       "      <td>1.140273</td>\n",
       "      <td>0</td>\n",
       "      <td>1.126933</td>\n",
       "      <td>2</td>\n",
       "      <td>1</td>\n",
       "    </tr>\n",
       "    <tr>\n",
       "      <th>2</th>\n",
       "      <td>0.691448</td>\n",
       "      <td>1</td>\n",
       "      <td>0</td>\n",
       "      <td>0.981899</td>\n",
       "      <td>1.423544</td>\n",
       "      <td>0.00000</td>\n",
       "      <td>2</td>\n",
       "      <td>0.716325</td>\n",
       "      <td>0</td>\n",
       "      <td>0.000000</td>\n",
       "      <td>0</td>\n",
       "      <td>0</td>\n",
       "    </tr>\n",
       "    <tr>\n",
       "      <th>3</th>\n",
       "      <td>0.897014</td>\n",
       "      <td>0</td>\n",
       "      <td>1</td>\n",
       "      <td>1.042324</td>\n",
       "      <td>1.076461</td>\n",
       "      <td>0.00000</td>\n",
       "      <td>1</td>\n",
       "      <td>0.789420</td>\n",
       "      <td>1</td>\n",
       "      <td>1.690400</td>\n",
       "      <td>2</td>\n",
       "      <td>1</td>\n",
       "    </tr>\n",
       "    <tr>\n",
       "      <th>4</th>\n",
       "      <td>1.009140</td>\n",
       "      <td>1</td>\n",
       "      <td>3</td>\n",
       "      <td>1.132960</td>\n",
       "      <td>0.980887</td>\n",
       "      <td>0.00000</td>\n",
       "      <td>1</td>\n",
       "      <td>0.891752</td>\n",
       "      <td>0</td>\n",
       "      <td>0.000000</td>\n",
       "      <td>0</td>\n",
       "      <td>0</td>\n",
       "    </tr>\n",
       "    <tr>\n",
       "      <th>...</th>\n",
       "      <td>...</td>\n",
       "      <td>...</td>\n",
       "      <td>...</td>\n",
       "      <td>...</td>\n",
       "      <td>...</td>\n",
       "      <td>...</td>\n",
       "      <td>...</td>\n",
       "      <td>...</td>\n",
       "      <td>...</td>\n",
       "      <td>...</td>\n",
       "      <td>...</td>\n",
       "      <td>...</td>\n",
       "    </tr>\n",
       "    <tr>\n",
       "      <th>913</th>\n",
       "      <td>0.840950</td>\n",
       "      <td>1</td>\n",
       "      <td>2</td>\n",
       "      <td>0.830838</td>\n",
       "      <td>1.327971</td>\n",
       "      <td>0.00000</td>\n",
       "      <td>1</td>\n",
       "      <td>0.964846</td>\n",
       "      <td>0</td>\n",
       "      <td>1.352320</td>\n",
       "      <td>2</td>\n",
       "      <td>1</td>\n",
       "    </tr>\n",
       "    <tr>\n",
       "      <th>914</th>\n",
       "      <td>1.270769</td>\n",
       "      <td>1</td>\n",
       "      <td>1</td>\n",
       "      <td>1.087642</td>\n",
       "      <td>0.970827</td>\n",
       "      <td>4.28972</td>\n",
       "      <td>1</td>\n",
       "      <td>1.030631</td>\n",
       "      <td>0</td>\n",
       "      <td>3.831574</td>\n",
       "      <td>2</td>\n",
       "      <td>1</td>\n",
       "    </tr>\n",
       "    <tr>\n",
       "      <th>915</th>\n",
       "      <td>1.065204</td>\n",
       "      <td>1</td>\n",
       "      <td>1</td>\n",
       "      <td>0.981899</td>\n",
       "      <td>0.658955</td>\n",
       "      <td>0.00000</td>\n",
       "      <td>1</td>\n",
       "      <td>0.840586</td>\n",
       "      <td>1</td>\n",
       "      <td>1.352320</td>\n",
       "      <td>2</td>\n",
       "      <td>1</td>\n",
       "    </tr>\n",
       "    <tr>\n",
       "      <th>916</th>\n",
       "      <td>1.065204</td>\n",
       "      <td>0</td>\n",
       "      <td>0</td>\n",
       "      <td>0.981899</td>\n",
       "      <td>1.187125</td>\n",
       "      <td>0.00000</td>\n",
       "      <td>0</td>\n",
       "      <td>1.271843</td>\n",
       "      <td>0</td>\n",
       "      <td>0.000000</td>\n",
       "      <td>2</td>\n",
       "      <td>1</td>\n",
       "    </tr>\n",
       "    <tr>\n",
       "      <th>917</th>\n",
       "      <td>0.710136</td>\n",
       "      <td>1</td>\n",
       "      <td>3</td>\n",
       "      <td>1.042324</td>\n",
       "      <td>0.880284</td>\n",
       "      <td>0.00000</td>\n",
       "      <td>1</td>\n",
       "      <td>1.264533</td>\n",
       "      <td>0</td>\n",
       "      <td>0.000000</td>\n",
       "      <td>0</td>\n",
       "      <td>0</td>\n",
       "    </tr>\n",
       "  </tbody>\n",
       "</table>\n",
       "<p>918 rows × 12 columns</p>\n",
       "</div>"
      ],
      "text/plain": [
       "          AGE  SEXE  TDT       PAR  CHOLESTEROL      GAJ  ECG     FCMAX  \\\n",
       "0    0.747511     1    0  1.057430     1.453726  0.00000    1  1.257224   \n",
       "1    0.915701     0    3  1.208491     0.905435  0.00000    1  1.140273   \n",
       "2    0.691448     1    0  0.981899     1.423544  0.00000    2  0.716325   \n",
       "3    0.897014     0    1  1.042324     1.076461  0.00000    1  0.789420   \n",
       "4    1.009140     1    3  1.132960     0.980887  0.00000    1  0.891752   \n",
       "..        ...   ...  ...       ...          ...      ...  ...       ...   \n",
       "913  0.840950     1    2  0.830838     1.327971  0.00000    1  0.964846   \n",
       "914  1.270769     1    1  1.087642     0.970827  4.28972    1  1.030631   \n",
       "915  1.065204     1    1  0.981899     0.658955  0.00000    1  0.840586   \n",
       "916  1.065204     0    0  0.981899     1.187125  0.00000    0  1.271843   \n",
       "917  0.710136     1    3  1.042324     0.880284  0.00000    1  1.264533   \n",
       "\n",
       "     ANGINE  DEPRESSION  PENTE  CŒUR  \n",
       "0         0    0.000000      0     0  \n",
       "1         0    1.126933      2     1  \n",
       "2         0    0.000000      0     0  \n",
       "3         1    1.690400      2     1  \n",
       "4         0    0.000000      0     0  \n",
       "..      ...         ...    ...   ...  \n",
       "913       0    1.352320      2     1  \n",
       "914       0    3.831574      2     1  \n",
       "915       1    1.352320      2     1  \n",
       "916       0    0.000000      2     1  \n",
       "917       0    0.000000      0     0  \n",
       "\n",
       "[918 rows x 12 columns]"
      ]
     },
     "execution_count": 21,
     "metadata": {},
     "output_type": "execute_result"
    }
   ],
   "source": [
    "\n",
    "def recoder(serie):\n",
    "    return serie.astype('category').cat.codes\n",
    "\n",
    "def encodage(df):\n",
    "    for  i in df.select_dtypes(\"object\").columns:\n",
    "        df[i]=recoder(df[i])\n",
    "    return df\n",
    "\n",
    "encodage(df)"
   ]
  },
  {
   "cell_type": "code",
   "execution_count": 33,
   "id": "33a896c4",
   "metadata": {},
   "outputs": [
    {
     "data": {
      "image/png": "[encoded data removed]",
      "text/plain": [
       "<Figure size 432x288 with 1 Axes>"
      ]
     },
     "metadata": {},
     "output_type": "display_data"
    }
   ],
   "source": [
    "#GRAPHIC PENTE\n",
    "\n",
    "ASCENDANT = df[df.PENTE == 0].PENTE.count()\n",
    "PLAT = df[df.PENTE == 1].PENTE.count()\n",
    "DESCENDANT = df[df.PENTE == 2].PENTE.count()\n",
    "\n",
    "exper_vals = [ASCENDANT, PLAT,DESCENDANT ]\n",
    "\n",
    "exper_labels = ['ASCENDANT', 'PLAT','DESCENDANT']\n",
    "\n",
    "plt.pie(exper_vals,labels=exper_labels, autopct='%0.2f%%')\n",
    "plt.show()"
   ]
  },
  {
   "cell_type": "code",
   "execution_count": 34,
   "id": "bf9a8411",
   "metadata": {},
   "outputs": [
    {
     "data": {
      "image/png": "[encoded data removed]",
      "text/plain": [
       "<Figure size 432x288 with 1 Axes>"
      ]
     },
     "metadata": {},
     "output_type": "display_data"
    }
   ],
   "source": [
    "#GRAPHIC ANGINE\n",
    "\n",
    "NON = df[df.ANGINE == 0].ANGINE.count()\n",
    "OUI = df[df.ANGINE == 1].ANGINE.count()\n",
    "\n",
    "exper_vals = [NON, OUI]\n",
    "\n",
    "exper_labels = ['NON', 'OUI']\n",
    "\n",
    "plt.pie(exper_vals,labels=exper_labels,autopct='%0.2f%%')\n",
    "plt.show()"
   ]
  },
  {
   "cell_type": "code",
   "execution_count": 35,
   "id": "ae8dece3",
   "metadata": {},
   "outputs": [
    {
     "data": {
      "image/png": "[encoded data removed]",
      "text/plain": [
       "<Figure size 432x288 with 1 Axes>"
      ]
     },
     "metadata": {},
     "output_type": "display_data"
    }
   ],
   "source": [
    "#GRAPHIC ECG\n",
    "\n",
    "NORMAL = df[df.ECG == 0].ECG.count()\n",
    "ST = df[df.ECG == 1].ECG.count()\n",
    "LVH = df[df.ECG == 2].ECG.count()\n",
    "\n",
    "exper_vals = [NORMAL, ST, LVH]\n",
    "\n",
    "exper_labels = ['NORMAL', 'ST','LVH']\n",
    "\n",
    "plt.pie(exper_vals,labels=exper_labels,autopct='%0.f%%')\n",
    "plt.show()"
   ]
  },
  {
   "cell_type": "code",
   "execution_count": 36,
   "id": "ecec55f8",
   "metadata": {},
   "outputs": [
    {
     "data": {
      "image/png": "[encoded data removed]",
      "text/plain": [
       "<Figure size 432x288 with 1 Axes>"
      ]
     },
     "metadata": {},
     "output_type": "display_data"
    }
   ],
   "source": [
    "#GRAPHIC TDT\n",
    "AA = df[df.TDT == 0].TDT.count()\n",
    "DNA = df[df.TDT == 1].TDT.count()\n",
    "DSY = df[df.TDT == 2].TDT.count()\n",
    "AT = df[df.TDT == 3].TDT.count()\n",
    "exper_vals = [AA, DNA, DSY, AT]\n",
    "\n",
    "exper_labels = ['AA', 'DNA', 'DSY', 'AT']\n",
    "\n",
    "plt.pie(exper_vals,labels=exper_labels,autopct='%0.2f%%')\n",
    "plt.show()"
   ]
  },
  {
   "cell_type": "code",
   "execution_count": 37,
   "id": "eaf85fc6",
   "metadata": {
    "scrolled": true
   },
   "outputs": [
    {
     "data": {
      "image/png": "[encoded data removed]",
      "text/plain": [
       "<Figure size 432x288 with 1 Axes>"
      ]
     },
     "metadata": {},
     "output_type": "display_data"
    }
   ],
   "source": [
    "# graphic e la variable SEXE\n",
    "homme = df[df.SEXE == 1].SEXE.count()\n",
    "femme = df[df.SEXE == 0].SEXE.count()\n",
    "exper_vals = [femme, homme]\n",
    "exper_labels = ['Femme','homme']\n",
    "\n",
    "plt.pie(exper_vals,labels=exper_labels,autopct='%0.2f%%')\n",
    "plt.show()"
   ]
  },
  {
   "cell_type": "markdown",
   "id": "671dca9d",
   "metadata": {},
   "source": [
    "<p style=\"background-color:gray;padding:6px 0px;color:white\"> 8) Select your features (X) and your target (Y) </p>"
   ]
  },
  {
   "cell_type": "code",
   "execution_count": 22,
   "id": "021e1b37",
   "metadata": {
    "scrolled": true
   },
   "outputs": [
    {
     "data": {
      "text/html": [
       "<div>\n",
       "<style scoped>\n",
       "    .dataframe tbody tr th:only-of-type {\n",
       "        vertical-align: middle;\n",
       "    }\n",
       "\n",
       "    .dataframe tbody tr th {\n",
       "        vertical-align: top;\n",
       "    }\n",
       "\n",
       "    .dataframe thead th {\n",
       "        text-align: right;\n",
       "    }\n",
       "</style>\n",
       "<table border=\"1\" class=\"dataframe\">\n",
       "  <thead>\n",
       "    <tr style=\"text-align: right;\">\n",
       "      <th></th>\n",
       "      <th>AGE</th>\n",
       "      <th>SEXE</th>\n",
       "      <th>TDT</th>\n",
       "      <th>PAR</th>\n",
       "      <th>CHOLESTEROL</th>\n",
       "      <th>GAJ</th>\n",
       "      <th>ECG</th>\n",
       "      <th>FCMAX</th>\n",
       "      <th>ANGINE</th>\n",
       "      <th>DEPRESSION</th>\n",
       "      <th>PENTE</th>\n",
       "    </tr>\n",
       "  </thead>\n",
       "  <tbody>\n",
       "    <tr>\n",
       "      <th>0</th>\n",
       "      <td>0.747511</td>\n",
       "      <td>1</td>\n",
       "      <td>0</td>\n",
       "      <td>1.057430</td>\n",
       "      <td>1.453726</td>\n",
       "      <td>0.00000</td>\n",
       "      <td>1</td>\n",
       "      <td>1.257224</td>\n",
       "      <td>0</td>\n",
       "      <td>0.000000</td>\n",
       "      <td>0</td>\n",
       "    </tr>\n",
       "    <tr>\n",
       "      <th>1</th>\n",
       "      <td>0.915701</td>\n",
       "      <td>0</td>\n",
       "      <td>3</td>\n",
       "      <td>1.208491</td>\n",
       "      <td>0.905435</td>\n",
       "      <td>0.00000</td>\n",
       "      <td>1</td>\n",
       "      <td>1.140273</td>\n",
       "      <td>0</td>\n",
       "      <td>1.126933</td>\n",
       "      <td>2</td>\n",
       "    </tr>\n",
       "    <tr>\n",
       "      <th>2</th>\n",
       "      <td>0.691448</td>\n",
       "      <td>1</td>\n",
       "      <td>0</td>\n",
       "      <td>0.981899</td>\n",
       "      <td>1.423544</td>\n",
       "      <td>0.00000</td>\n",
       "      <td>2</td>\n",
       "      <td>0.716325</td>\n",
       "      <td>0</td>\n",
       "      <td>0.000000</td>\n",
       "      <td>0</td>\n",
       "    </tr>\n",
       "    <tr>\n",
       "      <th>3</th>\n",
       "      <td>0.897014</td>\n",
       "      <td>0</td>\n",
       "      <td>1</td>\n",
       "      <td>1.042324</td>\n",
       "      <td>1.076461</td>\n",
       "      <td>0.00000</td>\n",
       "      <td>1</td>\n",
       "      <td>0.789420</td>\n",
       "      <td>1</td>\n",
       "      <td>1.690400</td>\n",
       "      <td>2</td>\n",
       "    </tr>\n",
       "    <tr>\n",
       "      <th>4</th>\n",
       "      <td>1.009140</td>\n",
       "      <td>1</td>\n",
       "      <td>3</td>\n",
       "      <td>1.132960</td>\n",
       "      <td>0.980887</td>\n",
       "      <td>0.00000</td>\n",
       "      <td>1</td>\n",
       "      <td>0.891752</td>\n",
       "      <td>0</td>\n",
       "      <td>0.000000</td>\n",
       "      <td>0</td>\n",
       "    </tr>\n",
       "    <tr>\n",
       "      <th>...</th>\n",
       "      <td>...</td>\n",
       "      <td>...</td>\n",
       "      <td>...</td>\n",
       "      <td>...</td>\n",
       "      <td>...</td>\n",
       "      <td>...</td>\n",
       "      <td>...</td>\n",
       "      <td>...</td>\n",
       "      <td>...</td>\n",
       "      <td>...</td>\n",
       "      <td>...</td>\n",
       "    </tr>\n",
       "    <tr>\n",
       "      <th>913</th>\n",
       "      <td>0.840950</td>\n",
       "      <td>1</td>\n",
       "      <td>2</td>\n",
       "      <td>0.830838</td>\n",
       "      <td>1.327971</td>\n",
       "      <td>0.00000</td>\n",
       "      <td>1</td>\n",
       "      <td>0.964846</td>\n",
       "      <td>0</td>\n",
       "      <td>1.352320</td>\n",
       "      <td>2</td>\n",
       "    </tr>\n",
       "    <tr>\n",
       "      <th>914</th>\n",
       "      <td>1.270769</td>\n",
       "      <td>1</td>\n",
       "      <td>1</td>\n",
       "      <td>1.087642</td>\n",
       "      <td>0.970827</td>\n",
       "      <td>4.28972</td>\n",
       "      <td>1</td>\n",
       "      <td>1.030631</td>\n",
       "      <td>0</td>\n",
       "      <td>3.831574</td>\n",
       "      <td>2</td>\n",
       "    </tr>\n",
       "    <tr>\n",
       "      <th>915</th>\n",
       "      <td>1.065204</td>\n",
       "      <td>1</td>\n",
       "      <td>1</td>\n",
       "      <td>0.981899</td>\n",
       "      <td>0.658955</td>\n",
       "      <td>0.00000</td>\n",
       "      <td>1</td>\n",
       "      <td>0.840586</td>\n",
       "      <td>1</td>\n",
       "      <td>1.352320</td>\n",
       "      <td>2</td>\n",
       "    </tr>\n",
       "    <tr>\n",
       "      <th>916</th>\n",
       "      <td>1.065204</td>\n",
       "      <td>0</td>\n",
       "      <td>0</td>\n",
       "      <td>0.981899</td>\n",
       "      <td>1.187125</td>\n",
       "      <td>0.00000</td>\n",
       "      <td>0</td>\n",
       "      <td>1.271843</td>\n",
       "      <td>0</td>\n",
       "      <td>0.000000</td>\n",
       "      <td>2</td>\n",
       "    </tr>\n",
       "    <tr>\n",
       "      <th>917</th>\n",
       "      <td>0.710136</td>\n",
       "      <td>1</td>\n",
       "      <td>3</td>\n",
       "      <td>1.042324</td>\n",
       "      <td>0.880284</td>\n",
       "      <td>0.00000</td>\n",
       "      <td>1</td>\n",
       "      <td>1.264533</td>\n",
       "      <td>0</td>\n",
       "      <td>0.000000</td>\n",
       "      <td>0</td>\n",
       "    </tr>\n",
       "  </tbody>\n",
       "</table>\n",
       "<p>918 rows × 11 columns</p>\n",
       "</div>"
      ],
      "text/plain": [
       "          AGE  SEXE  TDT       PAR  CHOLESTEROL      GAJ  ECG     FCMAX  \\\n",
       "0    0.747511     1    0  1.057430     1.453726  0.00000    1  1.257224   \n",
       "1    0.915701     0    3  1.208491     0.905435  0.00000    1  1.140273   \n",
       "2    0.691448     1    0  0.981899     1.423544  0.00000    2  0.716325   \n",
       "3    0.897014     0    1  1.042324     1.076461  0.00000    1  0.789420   \n",
       "4    1.009140     1    3  1.132960     0.980887  0.00000    1  0.891752   \n",
       "..        ...   ...  ...       ...          ...      ...  ...       ...   \n",
       "913  0.840950     1    2  0.830838     1.327971  0.00000    1  0.964846   \n",
       "914  1.270769     1    1  1.087642     0.970827  4.28972    1  1.030631   \n",
       "915  1.065204     1    1  0.981899     0.658955  0.00000    1  0.840586   \n",
       "916  1.065204     0    0  0.981899     1.187125  0.00000    0  1.271843   \n",
       "917  0.710136     1    3  1.042324     0.880284  0.00000    1  1.264533   \n",
       "\n",
       "     ANGINE  DEPRESSION  PENTE  \n",
       "0         0    0.000000      0  \n",
       "1         0    1.126933      2  \n",
       "2         0    0.000000      0  \n",
       "3         1    1.690400      2  \n",
       "4         0    0.000000      0  \n",
       "..      ...         ...    ...  \n",
       "913       0    1.352320      2  \n",
       "914       0    3.831574      2  \n",
       "915       1    1.352320      2  \n",
       "916       0    0.000000      2  \n",
       "917       0    0.000000      0  \n",
       "\n",
       "[918 rows x 11 columns]"
      ]
     },
     "execution_count": 22,
     "metadata": {},
     "output_type": "execute_result"
    }
   ],
   "source": [
    "X =  df.drop('CŒUR',axis=1)\n",
    "Y = df['CŒUR']\n",
    "X"
   ]
  },
  {
   "cell_type": "markdown",
   "id": "501c4390",
   "metadata": {},
   "source": [
    "<p style=\"background-color:gray;padding:6px 0px;color:white\"> 9) Select your TEST variables and your TRAIN variables </p>"
   ]
  },
  {
   "cell_type": "code",
   "execution_count": 23,
   "id": "68c4b453",
   "metadata": {},
   "outputs": [],
   "source": [
    "X_train, X_test, y_train, y_test = train_test_split(X,Y,test_size=0.2,random_state=5 )"
   ]
  },
  {
   "cell_type": "code",
   "execution_count": 24,
   "id": "6a3b3cff",
   "metadata": {},
   "outputs": [
    {
     "name": "stdout",
     "output_type": "stream",
     "text": [
      "dimensions de X_train sont (734, 11)\n",
      "dimensions de X_test sont (184, 11)\n",
      "dimensions de y_train sont (734,)\n",
      "dimensions de y_test sont (184,)\n"
     ]
    }
   ],
   "source": [
    "print(\"dimensions de X_train sont {}\".format(X_train.shape))\n",
    "print(\"dimensions de X_test sont {}\".format(X_test.shape))\n",
    "print(\"dimensions de y_train sont {}\".format(y_train.shape))\n",
    "print(\"dimensions de y_test sont {}\".format(y_test.shape))\n",
    "\n",
    "#0.714286, 1,1,0.600,0.000000,0.0,2,0.455446,0,0.048387,0"
   ]
  },
  {
   "cell_type": "code",
   "execution_count": 25,
   "id": "50c8a5a4",
   "metadata": {
    "scrolled": false
   },
   "outputs": [
    {
     "data": {
      "text/plain": [
       "array([1, 0, 1, 1, 0, 0, 0, 1, 0, 0, 1, 0, 1, 0, 0, 1, 0, 0, 0, 1, 1, 1,\n",
       "       1, 0, 1, 1, 1, 0, 1, 1, 0, 1, 0, 1, 0, 1, 1, 1, 0, 0, 1, 0, 1, 0,\n",
       "       1, 1, 0, 1, 1, 1, 1, 1, 0, 1, 1, 0, 1, 1, 1, 0, 1, 0, 1, 0, 0, 1,\n",
       "       1, 0, 1, 0, 0, 1, 1, 0, 0, 1, 0, 1, 0, 1, 1, 0, 1, 1, 1, 1, 1, 0,\n",
       "       1, 0, 0, 1, 1, 1, 1, 0, 1, 0, 1, 1, 1, 1, 0, 1, 1, 0, 1, 1, 1, 1,\n",
       "       0, 0, 0, 1, 0, 0, 1, 1, 1, 1, 1, 1, 1, 0, 1, 0, 1, 0, 1, 1, 1, 0,\n",
       "       0, 1, 1, 1, 1, 1, 1, 1, 0, 0, 0, 0, 0, 0, 1, 1, 0, 1, 0, 0, 0, 1,\n",
       "       1, 0, 0, 0, 1, 1, 1, 1, 1, 0, 1, 0, 0, 1, 1, 0, 0, 1, 0, 1, 0, 0,\n",
       "       1, 0, 0, 0, 0, 1, 1, 0], dtype=int64)"
      ]
     },
     "execution_count": 25,
     "metadata": {},
     "output_type": "execute_result"
    }
   ],
   "source": [
    "# question 10\n",
    "model = LogisticRegression(penalty='none' , solver='newton-cg')\n",
    "model.fit(X_train, y_train)\n",
    "predictions = model.predict(X_test)\n",
    "predictions"
   ]
  },
  {
   "cell_type": "code",
   "execution_count": 26,
   "id": "476253ee",
   "metadata": {},
   "outputs": [
    {
     "data": {
      "text/plain": [
       "array([0], dtype=int64)"
      ]
     },
     "execution_count": 26,
     "metadata": {},
     "output_type": "execute_result"
    }
   ],
   "source": [
    "pred= model.predict([[0.636364,0,3,0.80,0.298507,0.0,1,0.772277,0,0.161290,2]])\n",
    "pred"
   ]
  },
  {
   "cell_type": "code",
   "execution_count": 27,
   "id": "72303f54",
   "metadata": {},
   "outputs": [
    {
     "data": {
      "text/plain": [
       "array([[0.07044302, 0.92955698],\n",
       "       [0.7907396 , 0.2092604 ],\n",
       "       [0.03749723, 0.96250277],\n",
       "       [0.03925804, 0.96074196],\n",
       "       [0.54420279, 0.45579721],\n",
       "       [0.9377028 , 0.0622972 ],\n",
       "       [0.86263957, 0.13736043],\n",
       "       [0.02586766, 0.97413234],\n",
       "       [0.92418288, 0.07581712],\n",
       "       [0.90639181, 0.09360819],\n",
       "       [0.0166774 , 0.9833226 ],\n",
       "       [0.86892055, 0.13107945],\n",
       "       [0.08810536, 0.91189464],\n",
       "       [0.97884472, 0.02115528],\n",
       "       [0.76218002, 0.23781998],\n",
       "       [0.03791495, 0.96208505],\n",
       "       [0.76730689, 0.23269311],\n",
       "       [0.5781159 , 0.4218841 ],\n",
       "       [0.92298273, 0.07701727],\n",
       "       [0.08314412, 0.91685588],\n",
       "       [0.02498084, 0.97501916],\n",
       "       [0.20822514, 0.79177486],\n",
       "       [0.06792719, 0.93207281],\n",
       "       [0.84493161, 0.15506839],\n",
       "       [0.21102469, 0.78897531],\n",
       "       [0.0160683 , 0.9839317 ],\n",
       "       [0.07646087, 0.92353913],\n",
       "       [0.5767947 , 0.4232053 ],\n",
       "       [0.28063543, 0.71936457],\n",
       "       [0.0201028 , 0.9798972 ],\n",
       "       [0.8547848 , 0.1452152 ],\n",
       "       [0.06893104, 0.93106896],\n",
       "       [0.98587108, 0.01412892],\n",
       "       [0.12241002, 0.87758998],\n",
       "       [0.9008351 , 0.0991649 ],\n",
       "       [0.02367088, 0.97632912],\n",
       "       [0.02727684, 0.97272316],\n",
       "       [0.04149813, 0.95850187],\n",
       "       [0.65147943, 0.34852057],\n",
       "       [0.81451553, 0.18548447],\n",
       "       [0.07818774, 0.92181226],\n",
       "       [0.89052163, 0.10947837],\n",
       "       [0.02280301, 0.97719699],\n",
       "       [0.85471851, 0.14528149],\n",
       "       [0.24512736, 0.75487264],\n",
       "       [0.04508722, 0.95491278],\n",
       "       [0.6196867 , 0.3803133 ],\n",
       "       [0.03689078, 0.96310922],\n",
       "       [0.03447041, 0.96552959],\n",
       "       [0.08983334, 0.91016666],\n",
       "       [0.02987936, 0.97012064],\n",
       "       [0.03597162, 0.96402838],\n",
       "       [0.97606776, 0.02393224],\n",
       "       [0.06568368, 0.93431632],\n",
       "       [0.19861807, 0.80138193],\n",
       "       [0.86182114, 0.13817886],\n",
       "       [0.01202175, 0.98797825],\n",
       "       [0.03923196, 0.96076804],\n",
       "       [0.44992015, 0.55007985],\n",
       "       [0.88207501, 0.11792499],\n",
       "       [0.09560192, 0.90439808],\n",
       "       [0.97881988, 0.02118012],\n",
       "       [0.1155263 , 0.8844737 ],\n",
       "       [0.97506748, 0.02493252],\n",
       "       [0.90291303, 0.09708697],\n",
       "       [0.03771584, 0.96228416],\n",
       "       [0.0854005 , 0.9145995 ],\n",
       "       [0.9686429 , 0.0313571 ],\n",
       "       [0.37524034, 0.62475966],\n",
       "       [0.97666774, 0.02333226],\n",
       "       [0.86786015, 0.13213985],\n",
       "       [0.11981495, 0.88018505],\n",
       "       [0.11670478, 0.88329522],\n",
       "       [0.73434899, 0.26565101],\n",
       "       [0.9463249 , 0.0536751 ],\n",
       "       [0.01629405, 0.98370595],\n",
       "       [0.90572359, 0.09427641],\n",
       "       [0.07385997, 0.92614003],\n",
       "       [0.63012112, 0.36987888],\n",
       "       [0.11653503, 0.88346497],\n",
       "       [0.08618573, 0.91381427],\n",
       "       [0.79545135, 0.20454865],\n",
       "       [0.01245456, 0.98754544],\n",
       "       [0.06035932, 0.93964068],\n",
       "       [0.09453011, 0.90546989],\n",
       "       [0.04492332, 0.95507668],\n",
       "       [0.02644255, 0.97355745],\n",
       "       [0.85387872, 0.14612128],\n",
       "       [0.08388111, 0.91611889],\n",
       "       [0.52943272, 0.47056728],\n",
       "       [0.7065682 , 0.2934318 ],\n",
       "       [0.19960484, 0.80039516],\n",
       "       [0.05505164, 0.94494836],\n",
       "       [0.17194866, 0.82805134],\n",
       "       [0.02901783, 0.97098217],\n",
       "       [0.86018   , 0.13982   ],\n",
       "       [0.01715505, 0.98284495],\n",
       "       [0.80542177, 0.19457823],\n",
       "       [0.03993813, 0.96006187],\n",
       "       [0.00518616, 0.99481384],\n",
       "       [0.01593846, 0.98406154],\n",
       "       [0.03893791, 0.96106209],\n",
       "       [0.92759744, 0.07240256],\n",
       "       [0.04530149, 0.95469851],\n",
       "       [0.3040208 , 0.6959792 ],\n",
       "       [0.83190345, 0.16809655],\n",
       "       [0.03814676, 0.96185324],\n",
       "       [0.22571148, 0.77428852],\n",
       "       [0.17368497, 0.82631503],\n",
       "       [0.07265119, 0.92734881],\n",
       "       [0.97789531, 0.02210469],\n",
       "       [0.64734822, 0.35265178],\n",
       "       [0.93105139, 0.06894861],\n",
       "       [0.05464049, 0.94535951],\n",
       "       [0.67953549, 0.32046451],\n",
       "       [0.91616492, 0.08383508],\n",
       "       [0.01496305, 0.98503695],\n",
       "       [0.32590921, 0.67409079],\n",
       "       [0.35896675, 0.64103325],\n",
       "       [0.13403397, 0.86596603],\n",
       "       [0.11019197, 0.88980803],\n",
       "       [0.10984207, 0.89015793],\n",
       "       [0.05356614, 0.94643386],\n",
       "       [0.95225844, 0.04774156],\n",
       "       [0.135667  , 0.864333  ],\n",
       "       [0.68949231, 0.31050769],\n",
       "       [0.05201323, 0.94798677],\n",
       "       [0.94569311, 0.05430689],\n",
       "       [0.04100802, 0.95899198],\n",
       "       [0.03439658, 0.96560342],\n",
       "       [0.1068801 , 0.8931199 ],\n",
       "       [0.9536977 , 0.0463023 ],\n",
       "       [0.93535097, 0.06464903],\n",
       "       [0.24041639, 0.75958361],\n",
       "       [0.05003208, 0.94996792],\n",
       "       [0.18509389, 0.81490611],\n",
       "       [0.11272574, 0.88727426],\n",
       "       [0.01974379, 0.98025621],\n",
       "       [0.14329567, 0.85670433],\n",
       "       [0.02089309, 0.97910691],\n",
       "       [0.86507304, 0.13492696],\n",
       "       [0.92254408, 0.07745592],\n",
       "       [0.75701086, 0.24298914],\n",
       "       [0.64252058, 0.35747942],\n",
       "       [0.9726975 , 0.0273025 ],\n",
       "       [0.60118104, 0.39881896],\n",
       "       [0.02146418, 0.97853582],\n",
       "       [0.09417955, 0.90582045],\n",
       "       [0.89848299, 0.10151701],\n",
       "       [0.04448278, 0.95551722],\n",
       "       [0.86638334, 0.13361666],\n",
       "       [0.95022673, 0.04977327],\n",
       "       [0.97126077, 0.02873923],\n",
       "       [0.02572608, 0.97427392],\n",
       "       [0.20891917, 0.79108083],\n",
       "       [0.65185879, 0.34814121],\n",
       "       [0.75417204, 0.24582796],\n",
       "       [0.97109529, 0.02890471],\n",
       "       [0.1925261 , 0.8074739 ],\n",
       "       [0.06001092, 0.93998908],\n",
       "       [0.23380637, 0.76619363],\n",
       "       [0.28604234, 0.71395766],\n",
       "       [0.20060388, 0.79939612],\n",
       "       [0.98538245, 0.01461755],\n",
       "       [0.09038562, 0.90961438],\n",
       "       [0.93754615, 0.06245385],\n",
       "       [0.63137171, 0.36862829],\n",
       "       [0.1603661 , 0.8396339 ],\n",
       "       [0.07860359, 0.92139641],\n",
       "       [0.64675726, 0.35324274],\n",
       "       [0.93912612, 0.06087388],\n",
       "       [0.24575848, 0.75424152],\n",
       "       [0.96140483, 0.03859517],\n",
       "       [0.02653951, 0.97346049],\n",
       "       [0.81951485, 0.18048515],\n",
       "       [0.92781279, 0.07218721],\n",
       "       [0.25453597, 0.74546403],\n",
       "       [0.97614253, 0.02385747],\n",
       "       [0.85014331, 0.14985669],\n",
       "       [0.82580852, 0.17419148],\n",
       "       [0.95198178, 0.04801822],\n",
       "       [0.04696523, 0.95303477],\n",
       "       [0.17408853, 0.82591147],\n",
       "       [0.80100977, 0.19899023]])"
      ]
     },
     "execution_count": 27,
     "metadata": {},
     "output_type": "execute_result"
    }
   ],
   "source": [
    "#predict proba\n",
    "model.predict_proba(X_test)"
   ]
  },
  {
   "cell_type": "code",
   "execution_count": 28,
   "id": "bfc0b8bc",
   "metadata": {},
   "outputs": [
    {
     "data": {
      "text/plain": [
       "array([[67,  6],\n",
       "       [12, 99]], dtype=int64)"
      ]
     },
     "execution_count": 28,
     "metadata": {},
     "output_type": "execute_result"
    }
   ],
   "source": [
    "#Confusion Matrix\n",
    "mes.confusion_matrix(y_test, predictions)"
   ]
  },
  {
   "cell_type": "code",
   "execution_count": 29,
   "id": "014a70dc",
   "metadata": {},
   "outputs": [
    {
     "data": {
      "text/plain": [
       "0.9021739130434783"
      ]
     },
     "execution_count": 29,
     "metadata": {},
     "output_type": "execute_result"
    }
   ],
   "source": [
    "#score = accuracy_score(y_test, predictions)\n",
    "mes.accuracy_score(y_test, predictions)"
   ]
  },
  {
   "cell_type": "code",
   "execution_count": 30,
   "id": "8b0c8749",
   "metadata": {},
   "outputs": [
    {
     "data": {
      "text/plain": [
       "0.9428571428571428"
      ]
     },
     "execution_count": 30,
     "metadata": {},
     "output_type": "execute_result"
    }
   ],
   "source": [
    "#precision score\n",
    "mes.precision_score(y_test, predictions)"
   ]
  },
  {
   "cell_type": "code",
   "execution_count": 31,
   "id": "40dcdbe3",
   "metadata": {},
   "outputs": [
    {
     "data": {
      "text/plain": [
       "0.8918918918918919"
      ]
     },
     "execution_count": 31,
     "metadata": {},
     "output_type": "execute_result"
    }
   ],
   "source": [
    "#recall_score\n",
    "mes.recall_score(y_test, predictions )"
   ]
  },
  {
   "cell_type": "code",
   "execution_count": 32,
   "id": "88d271ac",
   "metadata": {},
   "outputs": [],
   "source": [
    "pickle.dump(model, open('model.pkl', 'wb'))"
   ]
  }
 ],
 "metadata": {
  "kernelspec": {
   "display_name": "Python 3",
   "language": "python",
   "name": "python3"
  },
  "language_info": {
   "codemirror_mode": {
    "name": "ipython",
    "version": 3
   },
   "file_extension": ".py",
   "mimetype": "text/x-python",
   "name": "python",
   "nbconvert_exporter": "python",
   "pygments_lexer": "ipython3",
   "version": "3.8.8"
  }
 },
 "nbformat": 4,
 "nbformat_minor": 5
}
